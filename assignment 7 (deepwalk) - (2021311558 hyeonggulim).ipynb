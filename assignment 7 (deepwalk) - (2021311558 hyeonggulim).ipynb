{
 "cells": [
  {
   "cell_type": "markdown",
   "metadata": {},
   "source": [
    "# Network Embedding via Random Walks - from previous results"
   ]
  },
  {
   "cell_type": "markdown",
   "metadata": {},
   "source": [
    "## Import modules and Data"
   ]
  },
  {
   "cell_type": "code",
   "execution_count": 1,
   "metadata": {},
   "outputs": [],
   "source": [
    "import pandas as pd\n",
    "import numpy as np\n",
    "import random\n",
    "import networkx as nx\n",
    "from matplotlib import pyplot as plt \n",
    "np.random.seed(15)"
   ]
  },
  {
   "cell_type": "code",
   "execution_count": 2,
   "metadata": {},
   "outputs": [],
   "source": [
    "#Load data\n",
    "adjlist = nx.read_adjlist(\"karate_club.adjlist\", nodetype=int)\n",
    "#karate_label = np.loadtxt(\"karate_label.txt\")\n",
    "karate_label = np.loadtxt(\"karate_label.txt\")\n",
    "Graph = nx.read_adjlist(\"karate_club.adjlist\", nodetype=int)\n",
    "node_number = nx.to_pandas_adjacency(Graph).columns"
   ]
  },
  {
   "cell_type": "code",
   "execution_count": 3,
   "metadata": {},
   "outputs": [
    {
     "name": "stdout",
     "output_type": "stream",
     "text": [
      "(34, 34)\n"
     ]
    }
   ],
   "source": [
    "adj = nx.to_numpy_array(adjlist)\n",
    "#label = karate_label[:,-1]\n",
    "\n",
    "print(adj.shape)\n",
    "#print(label.shape)"
   ]
  },
  {
   "cell_type": "markdown",
   "metadata": {},
   "source": [
    "## Nerual Network class\n",
    "+ used softmax function instead of sigmoid when feed_forward\n",
    "+ unlike 2-nn we made, deleted activation after hidden layer (after passing W1) sin ce its from word2back network \n",
    "\n",
    "+ backpropagation process is simliar to ass 2"
   ]
  },
  {
   "cell_type": "code",
   "execution_count": 4,
   "metadata": {},
   "outputs": [],
   "source": [
    "#actiavtion function \n",
    "def softmax(x):\n",
    "    c = np.max(x)\n",
    "    b = x-c\n",
    "    exp_x = np.exp(b)\n",
    "    sum_exp_x = np.sum(exp_x)\n",
    "    y = exp_x / sum_exp_x\n",
    "    return y"
   ]
  },
  {
   "cell_type": "code",
   "execution_count": 5,
   "metadata": {},
   "outputs": [],
   "source": [
    "#fully conneted network\n",
    "class ann:\n",
    "    def __init__(self, input_size, hidden_size,output_size):\n",
    "        #setting the shape of the layer and putting random inital value \n",
    "        self.params = {}\n",
    "        self.params['W1'] = np.random.randn(input_size,hidden_size)\n",
    "        self.params['W2'] = np.random.randn(hidden_size,output_size)\n",
    "    \n",
    "    #Calculating the Values\n",
    "    def gradient(self, x, y):\n",
    "        \n",
    "        #forward\n",
    "        W1,W2 = self.params['W1'],self.params['W2']\n",
    "        h = np.dot(x,W1)\n",
    "        #H = softmax(U)\n",
    "        \n",
    "        U2 = np.dot(h,W2)\n",
    "        Y = softmax(U2)\n",
    "        \n",
    "        diff = (Y-y) # 34*1\n",
    "        \n",
    "        ERR2 = np.outer(h,diff)\n",
    "\n",
    "          \n",
    "        #backpropagation\n",
    "        #ERR2 = (-np.log(np.abs(Y-y)))*Y*(1-Y)\n",
    "        ERR = np.outer(x,np.dot(W2,diff))\n",
    "        \n",
    "        \n",
    "        \n",
    "        \n",
    "        \n",
    "        return ERR,ERR2,diff,Y\n",
    "        "
   ]
  },
  {
   "cell_type": "markdown",
   "metadata": {},
   "source": [
    "## initializing variable and params"
   ]
  },
  {
   "cell_type": "code",
   "execution_count": 6,
   "metadata": {},
   "outputs": [],
   "source": [
    "w = 3 #window_size w\n",
    "d = 4 #embedding size d\n",
    "r = 10 # walks per vertex\n",
    "t = 10 # walk length\n",
    "learning_rate = 0.0001"
   ]
  },
  {
   "cell_type": "code",
   "execution_count": 7,
   "metadata": {},
   "outputs": [],
   "source": [
    "#Params\n",
    "n_network = ann(input_size = 34,hidden_size = d,output_size = 34)\n",
    "#P = np.random.random((34,d)) # Work as W1 (input_size,hidden_size)\n",
    "#Q = np.random.random((d,34)) # work as W2 (hidden_size, input_size)"
   ]
  },
  {
   "cell_type": "markdown",
   "metadata": {},
   "source": [
    "## Main Function\n",
    "+ random_walk ( find near vertexs and choose )\n",
    "+ skipgram (make windows depending on window size)\n",
    "+ updated params in skipgram"
   ]
  },
  {
   "cell_type": "code",
   "execution_count": 8,
   "metadata": {},
   "outputs": [],
   "source": [
    "def random_walk(vertex,t):\n",
    "    ans = []\n",
    "    ans.append(vertex)\n",
    "    \n",
    "    while True:\n",
    "        #stop untill the window size get t\n",
    "        if len(ans) == t:\n",
    "            return ans\n",
    "            \n",
    "        #check nearest vertexs\n",
    "        vertex_adj_list = list(adj[vertex]) \n",
    "        near_vertex_index = np.nonzero(vertex_adj_list)\n",
    "    \n",
    "        #choose the nearess vertex randomly\n",
    "        get_vertex = np.random.choice(list(near_vertex_index[0]),1)\n",
    "        ans.append(get_vertex[0])\n",
    "        vertex = get_vertex[0]\n"
   ]
  },
  {
   "cell_type": "code",
   "execution_count": 9,
   "metadata": {},
   "outputs": [],
   "source": [
    "def skipgram(W,w,loss):\n",
    "    new_loss = np.zeros(34)\n",
    "    loss = 0\n",
    "    for idx, vertex in enumerate(W):\n",
    "        #making u_list considering w\n",
    "        start = idx-w\n",
    "        end = idx+w\n",
    "        if start < 0:\n",
    "            start = 0\n",
    "        if end >= len(W):\n",
    "            end = len(W)-1\n",
    "\n",
    "        u_list = []\n",
    "        u_list.extend(W[start:idx])\n",
    "        u_list.extend(W[idx+1:end+1])\n",
    "        \n",
    "        #calculating each u from u_list\n",
    "        for each_u in u_list:\n",
    "            \n",
    "            # input, ouput with one-hot encoding\n",
    "            input_vertex = np.zeros(34)\n",
    "            y_pred = np.zeros(34)\n",
    "            v = vertex\n",
    "            u = each_u\n",
    "            input_vertex[v] = 1\n",
    "            y_pred[u] = 1\n",
    "            \n",
    "            #gradient (forward,backpropa)\n",
    "            \n",
    "            ERR,ERR2,diff,Y = n_network.gradient(input_vertex,y_pred)\n",
    "            #updata params\n",
    "            n_network.params['W1'] -= learning_rate * ERR\n",
    "            n_network.params['W2'] -= learning_rate * ERR2\n",
    "            #n_network.params['W2'] -= np.reshape(learning_rate * ERR2 * H.T, (d,34))\n",
    "            \n",
    "    \n",
    "            #calculating loss\n",
    "            loss += -np.log(Y[each_u])\n",
    "        #new_loss = new_loss / len(u_list)\n",
    "    return loss"
   ]
  },
  {
   "cell_type": "code",
   "execution_count": 10,
   "metadata": {},
   "outputs": [],
   "source": [
    "epoch = 200\n",
    "epoch_loss2 = []\n",
    "loss = np.zeros((34,34))\n",
    "for _ in range(epoch):\n",
    "    epoch_loss = 0\n",
    "\n",
    "    for i in range(r):\n",
    "        O = np.arange(34) \n",
    "        np.random.shuffle(O)\n",
    "    \n",
    "        for vertex in O:\n",
    "            W = random_walk(vertex,t)\n",
    "            loss = skipgram(W,w,loss)\n",
    "            epoch_loss += (loss /len(W))\n",
    "                \n",
    "    #h = np.dot(adj[1],W1)\n",
    "    #H = softmax(U)\n",
    "        \n",
    "    #U2 = np.dot(h,W2)\n",
    "    #Y = softmax(U2)      \n",
    "    #aa = np.mean(-np.log(Y -adj[1]))\n",
    "    epoch_loss2.append(np.mean(epoch_loss)/(len(O)*r))\n",
    "    #calculating loss\n",
    "    #n_networ.params['W1']    "
   ]
  },
  {
   "cell_type": "code",
   "execution_count": 11,
   "metadata": {},
   "outputs": [
    {
     "data": {
      "image/png": "[encoded data removed]",
      "text/plain": [
       "<Figure size 432x288 with 1 Axes>"
      ]
     },
     "metadata": {
      "needs_background": "light"
     },
     "output_type": "display_data"
    }
   ],
   "source": [
    "from matplotlib import pyplot as plt\n",
    "plt.plot(epoch_loss2)\n",
    "plt.title(\"the loss versus the number of epochs\")\n",
    "plt.xlabel(\"Number of epochs\")\n",
    "plt.ylabel(\"loss\")\n",
    "plt.show()"
   ]
  },
  {
   "cell_type": "markdown",
   "metadata": {},
   "source": [
    "## Plotting in 2-dim with TSNE\n",
    "\n",
    "+ it seems that nearest vertexs have \"1\"s in adj matrix\n",
    "+ but there are many wrong ones (which means some are faraway eventhough they have\"1\"\n",
    "+ it will probably improved when hidden layer (which is d) get higher\n",
    "+ Erased labels since didnt need at all"
   ]
  },
  {
   "cell_type": "code",
   "execution_count": 12,
   "metadata": {},
   "outputs": [],
   "source": [
    "nums = np.identity(34)\n",
    "W1 = n_network.params['W1']\n",
    "output = np.dot(nums , W1)\n",
    "adj = nx.to_numpy_array(adjlist)\n",
    "label = karate_label[:,-1]"
   ]
  },
  {
   "cell_type": "code",
   "execution_count": 13,
   "metadata": {},
   "outputs": [
    {
     "data": {
      "image/png": "[encoded data removed]",
      "text/plain": [
       "<Figure size 432x288 with 1 Axes>"
      ]
     },
     "metadata": {
      "needs_background": "light"
     },
     "output_type": "display_data"
    }
   ],
   "source": [
    "import matplotlib.pyplot as plt\n",
    "from sklearn.manifold import TSNE\n",
    "\n",
    "model = TSNE(learning_rate=100,perplexity=5)\n",
    "transformed = model.fit_transform(output)\n",
    "xs = transformed[:,0]\n",
    "ys = transformed[:,1]\n",
    "\n",
    "for i in range(len(xs)):\n",
    "    plt.scatter(xs[i],ys[i],c = node_number[i])\n",
    "    plt.text(xs[i],ys[i],i+1)\n",
    "plt.scatter(xs,ys,c=label)\n",
    "#plt.text(xs,ys)\n",
    "\n",
    "plt.show()\n"
   ]
  },
  {
   "cell_type": "markdown",
   "metadata": {},
   "source": [
    "## Logistic Regression"
   ]
  },
  {
   "cell_type": "code",
   "execution_count": 14,
   "metadata": {},
   "outputs": [
    {
     "name": "stdout",
     "output_type": "stream",
     "text": [
      "(34, 4)\n",
      "(34, 1)\n"
     ]
    }
   ],
   "source": [
    "# define data_x, label y\n",
    "x_data = output\n",
    "t_data = np.array(label).reshape(34,1)\n",
    "print(x_data.shape)\n",
    "print(t_data.shape)"
   ]
  },
  {
   "cell_type": "code",
   "execution_count": 15,
   "metadata": {},
   "outputs": [],
   "source": [
    "def sigmoid(x):\n",
    "    return 1/(1+np.exp(-x))\n",
    "    \n",
    "def loss_func(x, t):\n",
    "    delta = 1e-7\n",
    "    z=np.dot(x,w)+b\n",
    "    y=sigmoid(z)\n",
    "    return -np.sum(t*np.log(y+delta)+(1-t)*np.log((1-y)+delta))"
   ]
  },
  {
   "cell_type": "code",
   "execution_count": 16,
   "metadata": {},
   "outputs": [],
   "source": [
    "def numerical_derivative(f, x):\n",
    "    delta_x = 1e-4 \n",
    "    grad = np.zeros_like(x) # cal grads\n",
    "    \n",
    "    it = np.nditer(x, flags=['multi_index'], op_flags=['readwrite'])\n",
    "    \n",
    "    while not it.finished:\n",
    "        idx=it.multi_index\n",
    "        \n",
    "        tmp_val = x[idx]\n",
    "        x[idx] = float(tmp_val) + delta_x\n",
    "        fx1 = f(x)\n",
    "        \n",
    "        x[idx] = tmp_val - delta_x\n",
    "        fx2 = f(x)\n",
    "        \n",
    "        grad[idx] = (fx1 - fx2) / (2*delta_x)\n",
    "        \n",
    "        x[idx] = tmp_val\n",
    "        it.iternext()\n",
    "        \n",
    "    return grad\n",
    "\n",
    "def predict(x):\n",
    "    z = np.dot(x,w) + b\n",
    "    y = sigmoid(z)\n",
    "    \n",
    "    if y > 0.5: #0.5를 초과하면 1로 True, 이하면 0으로 False\n",
    "        result = 1\n",
    "    else:\n",
    "        result = 0\n",
    "        \n",
    "    return result"
   ]
  },
  {
   "cell_type": "code",
   "execution_count": 17,
   "metadata": {},
   "outputs": [],
   "source": [
    "#Param Setting\n",
    "learning_rate = 1e-2\n",
    "f = lambda x : loss_func(x_data, t_data)\n"
   ]
  },
  {
   "cell_type": "code",
   "execution_count": 19,
   "metadata": {},
   "outputs": [
    {
     "name": "stderr",
     "output_type": "stream",
     "text": [
      "<ipython-input-19-2e173eec26d5>:66: RuntimeWarning: invalid value encountered in true_divide\n",
      "  recall = right / np.sum(y)\n",
      "<ipython-input-19-2e173eec26d5>:65: RuntimeWarning: invalid value encountered in long_scalars\n",
      "  precision = right / np.sum(p)\n",
      "<ipython-input-19-2e173eec26d5>:67: RuntimeWarning: invalid value encountered in double_scalars\n",
      "  f1 = 2 * precision*recall/(precision+recall)\n"
     ]
    },
    {
     "name": "stdout",
     "output_type": "stream",
     "text": [
      "accuracy 0.8181818181818182\n",
      "precision 0.8\n",
      "recall 0.8\n",
      "f1 0.8000000000000002\n"
     ]
    }
   ],
   "source": [
    "np.random.seed(2)\n",
    "#Param Setting\n",
    "learning_rate = 1e-2\n",
    "# GET 10 time results\n",
    "right_10 = []\n",
    "accuracy_10 = []\n",
    "precision_10 = []\n",
    "recall_10 = []\n",
    "f1_10 = []\n",
    "\n",
    "# define data_x, label y\n",
    "x_data = output\n",
    "t_data = np.array(label).reshape(34,1)\n",
    "total = np.concatenate([x_data,t_data],axis = 1)\n",
    "\n",
    "#Portion setting\n",
    "portion_set = [0.05,0.15,0.25,0.35,0.45,0.55,0.65]\n",
    "portion_f1 = []\n",
    "for pro in portion_set:\n",
    "    for _ in range(10):\n",
    "    \n",
    "        #Shuffle Data\n",
    "        np.random.shuffle(total)\n",
    "        x_data = total[:,:-1]\n",
    "        t_data = total[:,-1]\n",
    "        t_data = np.array(t_data).reshape(34,1)\n",
    "    \n",
    "        #Data Split\n",
    "        portion = pro\n",
    "        tem = int(34 * portion)\n",
    "        x_test = x_data[34-tem:]\n",
    "        t_test = t_data[34-tem:]\n",
    "\n",
    "        x_data = x_data[:34-tem]\n",
    "        t_data = t_data[:34-tem]\n",
    "    \n",
    "        #initalizing\n",
    "        w = np.random.rand(4,1)\n",
    "        b = np.random.rand(1)\n",
    "    \n",
    "    \n",
    "        loss = []\n",
    "        for step in range(10000):\n",
    "            w -= learning_rate *numerical_derivative(f,w)\n",
    "            b -= learning_rate *numerical_derivative(f,b)\n",
    "            if(step%10==0):\n",
    "                l = loss_func(x_data, t_data)\n",
    "                loss.append(l)\n",
    "    \n",
    "        #make prediction\n",
    "        pred = []\n",
    "        for i in range(len(x_test)):\n",
    "            tem = predict(x_test[i])\n",
    "            pred.append(tem) \n",
    "        \n",
    "        \n",
    "        #prediction\n",
    "        y = t_test\n",
    "        y= y.flatten()\n",
    "        p = np.array(pred) \n",
    "\n",
    "\n",
    "        accuracy = np.mean(np.equal(y,p))\n",
    "        right = np.sum(y * p == 1)\n",
    "        precision = right / np.sum(p)\n",
    "        recall = right / np.sum(y)\n",
    "        f1 = 2 * precision*recall/(precision+recall)\n",
    "\n",
    "        accuracy_10.append(accuracy)\n",
    "        right_10.append(right)\n",
    "        precision_10.append(precision)\n",
    "        recall_10.append(recall)\n",
    "        f1_10.append(f1)\n",
    "        \n",
    "    portion_f1.append(np.mean(np.array(f1)))\n",
    "    \n",
    "print('accuracy',np.mean(np.array(accuracy)))\n",
    "print('precision', np.mean(np.array(precision)))\n",
    "print('recall', np.mean(np.array(recall)))\n",
    "print('f1', np.mean(np.array(f1)))"
   ]
  },
  {
   "cell_type": "code",
   "execution_count": 20,
   "metadata": {},
   "outputs": [
    {
     "data": {
      "text/plain": [
       "[<matplotlib.lines.Line2D at 0x21ff248d640>]"
      ]
     },
     "execution_count": 20,
     "metadata": {},
     "output_type": "execute_result"
    },
    {
     "data": {
      "image/png": "[encoded data removed]",
      "text/plain": [
       "<Figure size 432x288 with 1 Axes>"
      ]
     },
     "metadata": {
      "needs_background": "light"
     },
     "output_type": "display_data"
    }
   ],
   "source": [
    "#sample loss\n",
    "plt.plot(loss)"
   ]
  },
  {
   "cell_type": "markdown",
   "metadata": {},
   "source": [
    "# Results\n",
    "+ like matrix factorization, loss decreased well\n",
    "+ f1 score seems to have high scores when separted well\n",
    "+ but since i separated randomly, it didnt show consistency"
   ]
  },
  {
   "cell_type": "code",
   "execution_count": 21,
   "metadata": {},
   "outputs": [
    {
     "data": {
      "text/plain": [
       "[<matplotlib.lines.Line2D at 0x21ff231b100>]"
      ]
     },
     "execution_count": 21,
     "metadata": {},
     "output_type": "execute_result"
    },
    {
     "data": {
      "image/png": "[encoded data removed]",
      "text/plain": [
       "<Figure size 432x288 with 1 Axes>"
      ]
     },
     "metadata": {
      "needs_background": "light"
     },
     "output_type": "display_data"
    }
   ],
   "source": [
    "#Plotting f1 score with different portion\n",
    "plt.plot(portion_set, portion_f1)"
   ]
  },
  {
   "cell_type": "code",
   "execution_count": null,
   "metadata": {},
   "outputs": [],
   "source": []
  }
 ],
 "metadata": {
  "kernelspec": {
   "display_name": "Python 3",
   "language": "python",
   "name": "python3"
  },
  "language_info": {
   "codemirror_mode": {
    "name": "ipython",
    "version": 3
   },
   "file_extension": ".py",
   "mimetype": "text/x-python",
   "name": "python",
   "nbconvert_exporter": "python",
   "pygments_lexer": "ipython3",
   "version": "3.8.5"
  }
 },
 "nbformat": 4,
 "nbformat_minor": 4
}
