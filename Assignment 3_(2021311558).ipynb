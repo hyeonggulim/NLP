{
 "cells": [
  {
   "cell_type": "markdown",
   "metadata": {},
   "source": [
    "## Data Load and Split"
   ]
  },
  {
   "cell_type": "code",
   "execution_count": 1,
   "metadata": {},
   "outputs": [
    {
     "name": "stdout",
     "output_type": "stream",
     "text": [
      "(1000, 3)\n",
      "train_x shape:(1000, 2)\n",
      "train_y shape:(1000,)\n",
      "val_x shape:(3000, 2)\n",
      "val_y shape:(3000,)\n"
     ]
    }
   ],
   "source": [
    "import numpy as np\n",
    "\n",
    "\n",
    "\n",
    "data = np.loadtxt(\"training.txt\")\n",
    "test_data = np.loadtxt(\"test.txt\")\n",
    "print(data.shape)\n",
    "\n",
    "#shuffling the data\n",
    "np.random.shuffle(data)\n",
    "\n",
    "#spliting Data\n",
    "train_x = data[:,0:2]\n",
    "train_y = data[:,-1]\n",
    "print(\"train_x shape:\"+str(train_x.shape))\n",
    "print(\"train_y shape:\"+str(train_y.shape))\n",
    "\n",
    "val_x = test_data[:,0:2]\n",
    "val_y = test_data[:,-1]\n",
    "print(\"val_x shape:\"+str(val_x.shape))\n",
    "print(\"val_y shape:\"+str(val_y.shape))\n",
    "\n"
   ]
  },
  {
   "cell_type": "markdown",
   "metadata": {},
   "source": [
    "## Creating functions and Class"
   ]
  },
  {
   "cell_type": "code",
   "execution_count": 2,
   "metadata": {},
   "outputs": [],
   "source": [
    "#actiavtion function\n",
    "def sigmoid(x):\n",
    "    return 1 / (1 +np.exp(-x))"
   ]
  },
  {
   "cell_type": "code",
   "execution_count": 3,
   "metadata": {},
   "outputs": [],
   "source": [
    "#fully conneted network\n",
    "class ann:\n",
    "    def __init__(self, input_size, hidden_size,output_size):\n",
    "        #setting the shape of the layer and putting random inital value \n",
    "        self.params = {}\n",
    "        self.params['W1'] = np.random.random((input_size,hidden_size))\n",
    "        self.params['W2'] = np.random.random((hidden_size,output_size))\n",
    "        \n",
    "        #params for adagrad\n",
    "        self.params[\"G1\"] = np.random.random((8,2))\n",
    "        self.params[\"G2\"] = np.random.random((8,))\n",
    "        \n",
    "    #Calculating the Values\n",
    "    def gradient(self, x, y):\n",
    "        \n",
    "        #forward\n",
    "        W1,W2 = self.params['W1'],self.params['W2']\n",
    "        U = np.dot(x,W1)\n",
    "        H = sigmoid(U)\n",
    "        \n",
    "        U2 = np.dot(H,W2)\n",
    "        Y = sigmoid(U2)\n",
    "        \n",
    "        #backpropagation\n",
    "        \n",
    "        ERR2 = (Y-y)*Y*(1-Y)\n",
    "        ERR = np.dot((ERR2 * W2),np.dot(H,1-H))\n",
    "        \n",
    "        return ERR,ERR2,H,Y\n",
    "    \n",
    "    #for prediction after each epoch\n",
    "    def predict(self, x):\n",
    "        W1, W2 = self.params['W1'],self.params['W2']\n",
    "        U = np.dot(x,W1)\n",
    "        H = sigmoid(U)\n",
    "        \n",
    "        U2 = np.dot(H,W2)\n",
    "        Y = sigmoid(U2)\n",
    "        return Y\n",
    "    "
   ]
  },
  {
   "cell_type": "markdown",
   "metadata": {},
   "source": [
    "## [1] Loss and Validation Graph\n",
    "- After 20 epochs, both train and test loss have decreased dramatically\n",
    "- Normally, test loss doesn't exactly match the train loss due to \"OVERFITTING\" \n",
    "- It seems there is no OVERFITTING, since the data is Simple"
   ]
  },
  {
   "cell_type": "code",
   "execution_count": 4,
   "metadata": {},
   "outputs": [
    {
     "name": "stdout",
     "output_type": "stream",
     "text": [
      "(2, 8)\n",
      "(8, 1)\n"
     ]
    }
   ],
   "source": [
    "#fix seeds\n",
    "np.random.random(3)\n",
    "n_network = ann(input_size = 2,hidden_size = 8,output_size = 1)\n",
    "\n",
    "#checking the created network shape\n",
    "print(n_network.params['W1'].shape)\n",
    "print(n_network.params['W2'].shape)"
   ]
  },
  {
   "cell_type": "code",
   "execution_count": 5,
   "metadata": {},
   "outputs": [
    {
     "name": "stdout",
     "output_type": "stream",
     "text": [
      "1000\n"
     ]
    }
   ],
   "source": [
    "#setting the hyperparamter\n",
    "epoch = 500\n",
    "batch_size = 1\n",
    "n_iterations =int(train_x.shape[0] / batch_size)\n",
    "print(n_iterations)\n",
    "learning_rate = 0.01"
   ]
  },
  {
   "cell_type": "code",
   "execution_count": 6,
   "metadata": {},
   "outputs": [],
   "source": [
    "eight_epoch_loss = []\n",
    "eight_val_loss_epoch =[]\n",
    "for i in range(epoch):\n",
    "    #iter_loss = []\n",
    "    predict_y = []\n",
    "    for j in range(n_iterations):\n",
    "        \n",
    "        ERR,ERR2,H,Y = n_network.gradient(train_x[j],train_y[j])\n",
    "        \n",
    "        #UPDATING Params \"W1,W2\"\n",
    "        n_network.params['W1'] -= (learning_rate * ERR * train_x[j]).T\n",
    "        n_network.params['W2'] -= np.reshape(learning_rate * ERR2 * H, (8,1))\n",
    "        predict_y.append(Y)\n",
    "        \n",
    "        #val loss\n",
    "        #v_pre_y = n_network.predict(train_x)\n",
    "        \n",
    "    #train Loss\n",
    "    predict_y = n_network.predict(train_x)\n",
    "    loss = np.mean(((train_y - np.reshape(predict_y, (1000, )))**2)/2)\n",
    "    eight_epoch_loss.append(loss)\n",
    "    \n",
    "    #val Loss\n",
    "    t_predict_y = n_network.predict(val_x)\n",
    "    val_loss = np.mean(((val_y - np.reshape(t_predict_y, (3000, )))**2)/2)\n",
    "    eight_val_loss_epoch.append(val_loss)\n",
    "    "
   ]
  },
  {
   "cell_type": "code",
   "execution_count": 7,
   "metadata": {},
   "outputs": [
    {
     "data": {
      "image/png": "[encoded data removed]",
      "text/plain": [
       "<Figure size 432x288 with 1 Axes>"
      ]
     },
     "metadata": {
      "needs_background": "light"
     },
     "output_type": "display_data"
    }
   ],
   "source": [
    "from matplotlib import pyplot as plt\n",
    "plt.plot(eight_epoch_loss,label ='train loss')\n",
    "plt.plot(eight_val_loss_epoch,label = 'val loss')\n",
    "\n",
    "plt.title(\"the loss versus the number of epochs\")\n",
    "plt.xlabel(\"Number of epochs\")\n",
    "plt.ylabel(\"loss\")\n",
    "plt.legend()\n",
    "plt.show()"
   ]
  },
  {
   "cell_type": "markdown",
   "metadata": {},
   "source": [
    "## [2] EPOCH in different hidden layer\n",
    "- Since the random value(W1, W2) makes it hard to see the difference among \"Number of hidden layer\", i imported random seed\n",
    "- it seems that loss get simliar even though they have different hidden layers\n",
    "- i thought loss will decrease quickly in higher hidden layer setting, but it didnt\n",
    "- the Graph changes in different seed, but eventually ends with simliar loss"
   ]
  },
  {
   "cell_type": "code",
   "execution_count": 8,
   "metadata": {},
   "outputs": [
    {
     "name": "stdout",
     "output_type": "stream",
     "text": [
      "===================================================================\n",
      "======================== HIDDEN_SIZE = 2 =========================\n",
      "===================================================================\n",
      "===================================================================\n",
      "======================== HIDDEN_SIZE = 3 =========================\n",
      "===================================================================\n",
      "===================================================================\n",
      "======================== HIDDEN_SIZE = 4 =========================\n",
      "===================================================================\n",
      "===================================================================\n",
      "======================== HIDDEN_SIZE = 5 =========================\n",
      "===================================================================\n",
      "===================================================================\n",
      "======================== HIDDEN_SIZE = 6 =========================\n",
      "===================================================================\n",
      "===================================================================\n",
      "======================== HIDDEN_SIZE = 7 =========================\n",
      "===================================================================\n",
      "===================================================================\n",
      "======================== HIDDEN_SIZE = 8 =========================\n",
      "===================================================================\n",
      "===================================================================\n",
      "======================== HIDDEN_SIZE = 9 =========================\n",
      "===================================================================\n",
      "===================================================================\n",
      "======================== HIDDEN_SIZE = 10 =========================\n",
      "===================================================================\n",
      "===================================================================\n",
      "======================== HIDDEN_SIZE = 11 =========================\n",
      "===================================================================\n",
      "===================================================================\n",
      "======================== HIDDEN_SIZE = 12 =========================\n",
      "===================================================================\n",
      "===================================================================\n",
      "======================== HIDDEN_SIZE = 13 =========================\n",
      "===================================================================\n",
      "===================================================================\n",
      "======================== HIDDEN_SIZE = 14 =========================\n",
      "===================================================================\n",
      "===================================================================\n",
      "======================== HIDDEN_SIZE = 15 =========================\n",
      "===================================================================\n",
      "===================================================================\n",
      "======================== HIDDEN_SIZE = 16 =========================\n",
      "===================================================================\n"
     ]
    }
   ],
   "source": [
    "h_layer = [i for i in range(2,17)]\n",
    "loss_hidden = np.zeros((len(h_layer),100))\n",
    "for hidden_layer in h_layer:\n",
    "    n_network = ann(input_size = 2,hidden_size = hidden_layer,output_size = 1)\n",
    "\n",
    "    #checking the created network\n",
    "    print(\"===================================================================\")\n",
    "    print(\"======================== HIDDEN_SIZE = %d =========================\"%hidden_layer)\n",
    "    print(\"===================================================================\")\n",
    "    #fix seed\n",
    "    np.random.random(30)\n",
    "    #setting the hyperparamter\n",
    "    epoch = 100\n",
    "    batch_size = 1\n",
    "    n_iterations =int(train_x.shape[0] / batch_size)\n",
    "    learning_rate = 0.01\n",
    "    \n",
    "    epoch_loss = []\n",
    "    val_loss_epoch =[]\n",
    "    for i in range(epoch):\n",
    "        #iter_loss = []\n",
    "        predict_y = []\n",
    "        for j in range(n_iterations):\n",
    "        \n",
    "            ERR,ERR2,H,Y = n_network.gradient(train_x[j],train_y[j])\n",
    "        \n",
    "            #UPDATING Params \"W1,W2\"\n",
    "            n_network.params['W1'] -= (learning_rate * ERR * train_x[j]).T\n",
    "            n_network.params['W2'] -= np.reshape(learning_rate * ERR2 * H, (hidden_layer,1))\n",
    "            predict_y.append(Y)\n",
    "        #train Loss\n",
    "        predict_y = n_network.predict(train_x)\n",
    "        loss = np.mean(((train_y - np.reshape(predict_y, (1000, )))**2)/2)\n",
    "        epoch_loss.append(loss)\n",
    "         \n",
    "        #val Loss\n",
    "        #t_predict_y = n_network.predict(val_x)\n",
    "        #val_loss = np.mean(((val_y - np.reshape(t_predict_y, (3000, )))**2)/2)\n",
    "        #val_loss_epoch.append(val_loss)\n",
    "    \n",
    "    #plt.plot(val_loss_epoch,label = 'val loss')\n",
    "    loss_hidden[hidden_layer-2] = epoch_loss\n",
    "    "
   ]
  },
  {
   "cell_type": "code",
   "execution_count": 9,
   "metadata": {},
   "outputs": [
    {
     "data": {
      "image/png": "[encoded data removed]",
      "text/plain": [
       "<Figure size 432x288 with 1 Axes>"
      ]
     },
     "metadata": {
      "needs_background": "light"
     },
     "output_type": "display_data"
    }
   ],
   "source": [
    "from matplotlib import pyplot as plt\n",
    "for i in h_layer:\n",
    "    plt.plot(loss_hidden[i-2],label = 'layer:%d'%i) \n",
    "plt.title(\"the loss versus the number of epochs\")\n",
    "plt.xlabel(\"Number of epochs\")\n",
    "plt.ylabel(\"loss\")\n",
    "plt.legend(bbox_to_anchor=(1, 1))\n",
    "plt.show()"
   ]
  },
  {
   "cell_type": "markdown",
   "metadata": {},
   "source": [
    "## [3] Adaptive Gradient optimizer \n",
    "- The loss graph with using Adagrad have round curve compare to SGD \n",
    "- since Adagrad controls learning rate value, the loss decreases slower than normal\n",
    "- But, it seems to be more stable (SGD Loss sometimes get higher in later epoch  "
   ]
  },
  {
   "cell_type": "code",
   "execution_count": 10,
   "metadata": {},
   "outputs": [
    {
     "name": "stdout",
     "output_type": "stream",
     "text": [
      "(2, 8)\n",
      "(8, 1)\n"
     ]
    }
   ],
   "source": [
    "#fix seeds\n",
    "np.random.random(3)\n",
    "n_network = ann(input_size = 2,hidden_size = 8,output_size = 1)\n",
    "\n",
    "#checking the created network shape\n",
    "print(n_network.params['W1'].shape)\n",
    "print(n_network.params['W2'].shape)"
   ]
  },
  {
   "cell_type": "code",
   "execution_count": 11,
   "metadata": {},
   "outputs": [
    {
     "name": "stdout",
     "output_type": "stream",
     "text": [
      "1000\n"
     ]
    }
   ],
   "source": [
    "#setting the hyperparamter\n",
    "np.random.random(3)\n",
    "epoch = 500\n",
    "batch_size = 1\n",
    "n_iterations =int(train_x.shape[0] / batch_size)\n",
    "print(n_iterations)\n",
    "learning_rate = 0.01"
   ]
  },
  {
   "cell_type": "code",
   "execution_count": 12,
   "metadata": {},
   "outputs": [
    {
     "name": "stdout",
     "output_type": "stream",
     "text": [
      "1e-06\n"
     ]
    }
   ],
   "source": [
    "e = 0.000001\n",
    "print(e)\n",
    "a_epoch_loss = []\n",
    "a_val_loss_epoch =[]\n",
    "for i in range(epoch):\n",
    "    for j in range(n_iterations):\n",
    "        #print(n_network.params)\n",
    "\n",
    "        ERR,ERR2,H,Y = n_network.gradient(train_x[j],train_y[j])\n",
    "        \n",
    "        grad1 = ERR * train_x[j]\n",
    "        grad2 = ERR2 * H\n",
    "\n",
    "        #Updating params G1, G2\n",
    "        n_network.params['G1'] += grad1**2\n",
    "        n_network.params['G2'] += grad2**2\n",
    "        \n",
    "        #UPDATING Params \"W1,W2\" with adagrad\n",
    "        n_network.params['W1'] -= (learning_rate * grad1 / (np.sqrt(n_network.params['G1'])+e)).T\n",
    "        n_network.params['W2'] -= np.reshape(learning_rate *grad2, (8,1))\n",
    "        \n",
    "        \n",
    "        \n",
    "    #train Loss\n",
    "    predict_y = n_network.predict(train_x)\n",
    "    loss = np.mean(((train_y - np.reshape(predict_y, (1000, )))**2)/2)\n",
    "    a_epoch_loss.append(loss)\n",
    "    \n",
    "    #val Loss\n",
    "    t_predict_y = n_network.predict(val_x)\n",
    "    val_loss = np.mean(((val_y - np.reshape(t_predict_y, (3000, )))**2)/2)\n",
    "    a_val_loss_epoch.append(val_loss)\n",
    "    "
   ]
  },
  {
   "cell_type": "code",
   "execution_count": 13,
   "metadata": {},
   "outputs": [
    {
     "data": {
      "image/png": "[encoded data removed]",
      "text/plain": [
       "<Figure size 432x288 with 1 Axes>"
      ]
     },
     "metadata": {
      "needs_background": "light"
     },
     "output_type": "display_data"
    }
   ],
   "source": [
    "from matplotlib import pyplot as plt\n",
    "plt.plot(eight_epoch_loss,label ='train loss(sgd)')\n",
    "plt.plot(eight_val_loss_epoch,label = 'val loss(sgd)')\n",
    "\n",
    "plt.plot(a_epoch_loss,label ='train loss(adagrad)')\n",
    "plt.plot(a_val_loss_epoch,label = 'val loss(adagrad)')\n",
    "\n",
    "\n",
    "plt.title(\"the loss versus the number of epochs\")\n",
    "plt.xlabel(\"Number of epochs\")\n",
    "plt.ylabel(\"loss\")\n",
    "plt.legend()\n",
    "plt.show()"
   ]
  },
  {
   "cell_type": "code",
   "execution_count": null,
   "metadata": {},
   "outputs": [],
   "source": []
  },
  {
   "cell_type": "code",
   "execution_count": null,
   "metadata": {},
   "outputs": [],
   "source": []
  },
  {
   "cell_type": "code",
   "execution_count": null,
   "metadata": {},
   "outputs": [],
   "source": []
  }
 ],
 "metadata": {
  "kernelspec": {
   "display_name": "Python 3",
   "language": "python",
   "name": "python3"
  },
  "language_info": {
   "codemirror_mode": {
    "name": "ipython",
    "version": 3
   },
   "file_extension": ".py",
   "mimetype": "text/x-python",
   "name": "python",
   "nbconvert_exporter": "python",
   "pygments_lexer": "ipython3",
   "version": "3.8.5"
  }
 },
 "nbformat": 4,
 "nbformat_minor": 4
}
