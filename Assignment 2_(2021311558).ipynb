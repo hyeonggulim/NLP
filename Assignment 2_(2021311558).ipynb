{
 "cells": [
  {
   "cell_type": "markdown",
   "metadata": {},
   "source": [
    "## Data Load and Split"
   ]
  },
  {
   "cell_type": "code",
   "execution_count": 1,
   "metadata": {},
   "outputs": [
    {
     "name": "stdout",
     "output_type": "stream",
     "text": [
      "(1000, 3)\n",
      "train_x shape:(1000, 2)\n",
      "train_y shape:(1000,)\n"
     ]
    }
   ],
   "source": [
    "import numpy as np\n",
    "data = np.loadtxt(\"training.txt\")\n",
    "print(data.shape)\n",
    "\n",
    "#shuffling the data\n",
    "np.random.shuffle(data)\n",
    "\n",
    "#spliting Data\n",
    "train_x = data[:,0:2]\n",
    "train_y = data[:,-1]\n",
    "print(\"train_x shape:\"+str(train_x.shape))\n",
    "print(\"train_y shape:\"+str(train_y.shape))"
   ]
  },
  {
   "cell_type": "markdown",
   "metadata": {},
   "source": [
    "## Creating functions and Class"
   ]
  },
  {
   "cell_type": "code",
   "execution_count": 2,
   "metadata": {},
   "outputs": [],
   "source": [
    "#actiavtion function\n",
    "def sigmoid(x):\n",
    "    return 1 / (1 +np.exp(-x))"
   ]
  },
  {
   "cell_type": "code",
   "execution_count": 3,
   "metadata": {},
   "outputs": [],
   "source": [
    "#fully conneted network\n",
    "class ann:\n",
    "    def __init__(self, input_size, hidden_size,output_size):\n",
    "        #setting the shape of the layer and putting random inital value \n",
    "        self.params = {}\n",
    "        self.params['W1'] = np.random.randn(input_size,hidden_size)\n",
    "        self.params['W2'] = np.random.randn(hidden_size,output_size)\n",
    "    \n",
    "    #Calculating the Values\n",
    "    def gradient(self, x, y):\n",
    "        \n",
    "        #forward\n",
    "        W1,W2 = self.params['W1'],self.params['W2']\n",
    "        U = np.dot(x,W1)\n",
    "        H = sigmoid(U)\n",
    "        \n",
    "        U2 = np.dot(H,W2)\n",
    "        Y = sigmoid(U2)\n",
    "        \n",
    "        #backpropagation\n",
    "        \n",
    "        ERR2 = (Y-y)*Y*(1-Y)\n",
    "        ERR = np.dot((ERR2 * W2),np.dot(H,1-H))\n",
    "        \n",
    "\n",
    "        return ERR,ERR2,H,Y\n",
    "        "
   ]
  },
  {
   "cell_type": "markdown",
   "metadata": {},
   "source": [
    "## Creating Fullyconnected-NN With Class"
   ]
  },
  {
   "cell_type": "code",
   "execution_count": 4,
   "metadata": {},
   "outputs": [
    {
     "name": "stdout",
     "output_type": "stream",
     "text": [
      "(2, 8)\n",
      "(8, 1)\n"
     ]
    }
   ],
   "source": [
    "n_network = ann(input_size = 2,hidden_size = 8,output_size = 1)\n",
    "\n",
    "#checking the created network shape\n",
    "print(n_network.params['W1'].shape)\n",
    "print(n_network.params['W2'].shape)"
   ]
  },
  {
   "cell_type": "code",
   "execution_count": 5,
   "metadata": {},
   "outputs": [],
   "source": [
    "#setting the hyperparamter\n",
    "epoch = 50\n",
    "batch_size = 1\n",
    "n_iterations =int(train_x.shape[0] / batch_size)\n",
    "learning_rate = 0.01"
   ]
  },
  {
   "cell_type": "code",
   "execution_count": 6,
   "metadata": {},
   "outputs": [],
   "source": [
    "epoch_loss = []\n",
    "for i in range(epoch):\n",
    "    #iter_loss = []\n",
    "    predict_y = []\n",
    "    for j in range(n_iterations):\n",
    "        \n",
    "        ERR,ERR2,H,Y = n_network.gradient(train_x[j],train_y[j])\n",
    "        \n",
    "        #UPDATING Params \"W1,W2\"\n",
    "        n_network.params['W1'] -= (learning_rate * ERR * train_x[i]).T\n",
    "        n_network.params['W2'] -= np.reshape(learning_rate * ERR2 * H, (8,1))\n",
    "        predict_y.append(Y)\n",
    "    \n",
    "    loss = np.mean(((train_y - np.reshape(predict_y, (1000, )))**2)/2)\n",
    "    epoch_loss.append(loss)"
   ]
  },
  {
   "cell_type": "markdown",
   "metadata": {},
   "source": [
    "## Loss Graph"
   ]
  },
  {
   "cell_type": "code",
   "execution_count": 8,
   "metadata": {},
   "outputs": [
    {
     "data": {
      "image/png": "[encoded data removed]",
      "text/plain": [
       "<Figure size 432x288 with 1 Axes>"
      ]
     },
     "metadata": {
      "needs_background": "light"
     },
     "output_type": "display_data"
    }
   ],
   "source": [
    "from matplotlib import pyplot as plt\n",
    "plt.plot(epoch_loss)\n",
    "plt.title(\"the loss versus the number of epochs\")\n",
    "plt.xlabel(\"Number of epochs\")\n",
    "plt.ylabel(\"loss\")\n",
    "plt.show()"
   ]
  },
  {
   "cell_type": "code",
   "execution_count": null,
   "metadata": {},
   "outputs": [],
   "source": []
  },
  {
   "cell_type": "code",
   "execution_count": null,
   "metadata": {},
   "outputs": [],
   "source": []
  }
 ],
 "metadata": {
  "kernelspec": {
   "display_name": "Python 3",
   "language": "python",
   "name": "python3"
  },
  "language_info": {
   "codemirror_mode": {
    "name": "ipython",
    "version": 3
   },
   "file_extension": ".py",
   "mimetype": "text/x-python",
   "name": "python",
   "nbconvert_exporter": "python",
   "pygments_lexer": "ipython3",
   "version": "3.8.5"
  }
 },
 "nbformat": 4,
 "nbformat_minor": 4
}
