{
 "cells": [
  {
   "cell_type": "markdown",
   "metadata": {},
   "source": [
    "파이썬 코드를 작성하는데 아래의 블로그를 많이 참고하였습니다.\n",
    "\n",
    "https://github.com/seunghan96/datascience/tree/master/%5B%EC%97%B0%EA%B5%AC%EC%8B%A4%EC%9D%B8%ED%84%B4%5DComputational_Science_and_Engineering"
   ]
  },
  {
   "cell_type": "markdown",
   "metadata": {},
   "source": [
    "# 1. Fisrt order proximity"
   ]
  },
  {
   "cell_type": "code",
   "execution_count": 1,
   "metadata": {},
   "outputs": [
    {
     "name": "stdout",
     "output_type": "stream",
     "text": [
      "(34, 34)\n",
      "(34,)\n"
     ]
    }
   ],
   "source": [
    "import pandas as pd\n",
    "import numpy as np\n",
    "import random\n",
    "import networkx as nx\n",
    "from matplotlib import pyplot as plt \n",
    "np.random.seed(15)\n",
    "\n",
    "\n",
    "#Load data\n",
    "adjlist = nx.read_adjlist(\"karate_club.adjlist\", nodetype=int)\n",
    "karate_label = np.loadtxt(\"karate_label.txt\")\n",
    "Graph = nx.read_adjlist(\"karate_club.adjlist\", nodetype=int)\n",
    "node_number = nx.to_pandas_adjacency(Graph).columns\n",
    "\n",
    "\n",
    "adj = nx.to_numpy_array(adjlist)\n",
    "label = karate_label[:,-1]\n",
    "\n",
    "print(adj.shape)\n",
    "print(label.shape)\n"
   ]
  },
  {
   "cell_type": "code",
   "execution_count": 2,
   "metadata": {},
   "outputs": [],
   "source": [
    "def first_prox(node_vec1,node_vec2):\n",
    "    mul = np.dot(node_vec1.T,node_vec2)\n",
    "    return 1/(1+np.exp(-mul))"
   ]
  },
  {
   "cell_type": "code",
   "execution_count": 3,
   "metadata": {},
   "outputs": [
    {
     "data": {
      "text/plain": [
       "(34, 34)"
      ]
     },
     "execution_count": 3,
     "metadata": {},
     "output_type": "execute_result"
    }
   ],
   "source": [
    "OH = np.identity(len(adj[0]))\n",
    "OH.shape"
   ]
  },
  {
   "cell_type": "code",
   "execution_count": 4,
   "metadata": {},
   "outputs": [],
   "source": [
    "def first_order(epoch, lr):\n",
    "    low_dim = np.random.rand(OH.shape[0],2)\n",
    "    vec = np.matmul(OH,low_dim) #shape (34,2)\n",
    "    \n",
    "    for _ in range(epoch):\n",
    "        loss = []\n",
    "        for node in range(vec.shape[0]):\n",
    "            #find near or not\n",
    "            near_index = np.nonzero(adj[node])[0]\n",
    "            tem = [ii for ii in range(34)]\n",
    "            non_near_index = list(set(tem) - set(near_index))\n",
    "            \n",
    "            #node_vec\n",
    "            node_vec = vec[node]\n",
    "            \n",
    "            for pos in near_index:\n",
    "                pos_vec = vec[pos]\n",
    "                \n",
    "                #updates\n",
    "                vec[node] -= lr*(first_prox(node_vec,pos_vec)-1)*pos_vec\n",
    "                \n",
    "                loss.append(first_prox(node_vec,pos_vec)-1)\n",
    "        loss_epoch.append(-np.mean(loss))\n",
    "    return vec"
   ]
  },
  {
   "cell_type": "code",
   "execution_count": 5,
   "metadata": {},
   "outputs": [],
   "source": [
    "loss_epoch = []\n",
    "low_vec = first_order(100,0.01)"
   ]
  },
  {
   "cell_type": "code",
   "execution_count": 6,
   "metadata": {},
   "outputs": [
    {
     "data": {
      "text/plain": [
       "[<matplotlib.lines.Line2D at 0x1b9585cd160>]"
      ]
     },
     "execution_count": 6,
     "metadata": {},
     "output_type": "execute_result"
    },
    {
     "data": {
      "image/png": "[encoded data removed]",
      "text/plain": [
       "<Figure size 432x288 with 1 Axes>"
      ]
     },
     "metadata": {
      "needs_background": "light"
     },
     "output_type": "display_data"
    }
   ],
   "source": [
    "plt.plot(loss_epoch)"
   ]
  },
  {
   "cell_type": "code",
   "execution_count": null,
   "metadata": {},
   "outputs": [],
   "source": []
  },
  {
   "cell_type": "markdown",
   "metadata": {},
   "source": [
    "# T-SNE (first-order proximity)"
   ]
  },
  {
   "cell_type": "markdown",
   "metadata": {},
   "source": [
    "- the membership number are located nearly when they Wij value is \"one\""
   ]
  },
  {
   "cell_type": "code",
   "execution_count": 7,
   "metadata": {},
   "outputs": [],
   "source": [
    "ans = np.dot(adj,low_vec)"
   ]
  },
  {
   "cell_type": "code",
   "execution_count": 8,
   "metadata": {},
   "outputs": [],
   "source": [
    "node_number\n",
    "label\n",
    "label_fix = []\n",
    "for i in node_number:\n",
    "    tem = label[i]\n",
    "    label_fix.append(tem)"
   ]
  },
  {
   "cell_type": "code",
   "execution_count": 9,
   "metadata": {},
   "outputs": [
    {
     "data": {
      "image/png": "[encoded data removed]",
      "text/plain": [
       "<Figure size 432x288 with 1 Axes>"
      ]
     },
     "metadata": {
      "needs_background": "light"
     },
     "output_type": "display_data"
    }
   ],
   "source": [
    "import matplotlib.pyplot as plt\n",
    "from sklearn.manifold import TSNE\n",
    "\n",
    "model = TSNE(learning_rate=100,perplexity=6)\n",
    "transformed = model.fit_transform(ans)\n",
    "xs = transformed[:,0]\n",
    "ys = transformed[:,1]\n",
    "\n",
    "for i in range(len(xs)):\n",
    "    plt.scatter(xs[i],ys[i],c = np.array(34))\n",
    "    plt.text(xs[i],ys[i],node_number[i])\n",
    "plt.scatter(xs,ys)\n",
    "#plt.text(xs,ys)\n",
    "\n",
    "plt.show()\n"
   ]
  },
  {
   "cell_type": "markdown",
   "metadata": {},
   "source": [
    "# 2. Second Order Proximity \n",
    "+ relects not only the nearest ones but close ones"
   ]
  },
  {
   "cell_type": "code",
   "execution_count": 20,
   "metadata": {},
   "outputs": [],
   "source": [
    "# Find EDGES \n",
    "edge = pd.read_csv('karate_club.edgelist', sep=' ', names=['x','y','w'])\n",
    "edge['w']=1 # unweighted graph\n",
    "# make it as directed graph\n",
    "reverse_edge = edge[['y','x','w']]\n",
    "reverse_edge.columns = ['x','y','w']\n",
    "\n",
    "total_edge = pd.concat([edge,reverse_edge])\n",
    "total_edge = np.array(total_edge)\n",
    "np.random.shuffle(total_edge)"
   ]
  },
  {
   "cell_type": "code",
   "execution_count": 21,
   "metadata": {},
   "outputs": [],
   "source": [
    "OH = np.identity(len(adj[0]))\n",
    "\n",
    "#A = nx.to_numpy_matrix(graph, nodelist=sorted(graph.nodes()))"
   ]
  },
  {
   "cell_type": "code",
   "execution_count": 22,
   "metadata": {},
   "outputs": [],
   "source": [
    "def sigmoid(x):\n",
    "    return 1/(1+np.exp(-x+0.01))"
   ]
  },
  {
   "cell_type": "code",
   "execution_count": 23,
   "metadata": {},
   "outputs": [],
   "source": [
    "# get nodes\n",
    "def node_from_edge(edges):\n",
    "    random_idx = np.random.choice(edges.shape[0],1)\n",
    "    edge = edges[random_idx][0]\n",
    "    return edge[0],edge[1]"
   ]
  },
  {
   "cell_type": "code",
   "execution_count": 24,
   "metadata": {},
   "outputs": [
    {
     "data": {
      "text/plain": [
       "array([16.,  9., 10.,  6.,  3.,  4.,  4.,  4.,  5.,  3.,  1.,  2.,  5.,\n",
       "        2.,  3.,  2.,  6.,  4.,  2.,  4.,  3., 12.,  2., 17.,  2.,  2.,\n",
       "        2.,  2.,  2.,  5.,  3.,  4.,  3.,  2.])"
      ]
     },
     "execution_count": 24,
     "metadata": {},
     "output_type": "execute_result"
    }
   ],
   "source": [
    "degree = np.array(adj.sum(axis=1).flatten())\n",
    "degree"
   ]
  },
  {
   "cell_type": "code",
   "execution_count": 25,
   "metadata": {},
   "outputs": [],
   "source": [
    "loss = []\n",
    "def second_order(epoch,lr,dim):\n",
    "    \n",
    "    context_vector = np.random.rand(OH.shape[0],2)\n",
    "    itself_vector = np.random.rand(OH.shape[0],2)\n",
    "    \n",
    "    for _ in range(epoch): # epoch\n",
    "        loss_tem =[]\n",
    "        for edge in total_edge:\n",
    "            start,end = edge[0],edge[1]\n",
    "            \n",
    "            #define vectors\n",
    "            start_context,start_itself = context_vector[start], itself_vector[start]\n",
    "            end_context,end_itself = context_vector[end], itself_vector[end]        \n",
    "\n",
    "            EH = np.zeros(dim)\n",
    "            \n",
    "            #uodate vectors\n",
    "            pos_case = sigmoid(np.dot(context_vector[end],itself_vector[start]))-1\n",
    "            EH += pos_case*context_vector[end]\n",
    "            context_vector[end] -= lr*pos_case*itself_vector[start] # context vector\n",
    "            \n",
    "            itself_vector[start] -= lr*EH # vecter\n",
    "            loss_tem.append(pos_case)\n",
    "        loss.append(-np.mean(loss_tem))\n",
    "    return context_vector, itself_vector"
   ]
  },
  {
   "cell_type": "code",
   "execution_count": 26,
   "metadata": {},
   "outputs": [],
   "source": [
    "condition,vector = second_order(100,0.01,2)\n"
   ]
  },
  {
   "cell_type": "code",
   "execution_count": 27,
   "metadata": {},
   "outputs": [
    {
     "data": {
      "text/plain": [
       "[<matplotlib.lines.Line2D at 0x1b95ac0a8b0>]"
      ]
     },
     "execution_count": 27,
     "metadata": {},
     "output_type": "execute_result"
    },
    {
     "data": {
      "image/png": "[encoded data removed]",
      "text/plain": [
       "<Figure size 432x288 with 1 Axes>"
      ]
     },
     "metadata": {
      "needs_background": "light"
     },
     "output_type": "display_data"
    }
   ],
   "source": [
    "plt.plot(loss)"
   ]
  },
  {
   "cell_type": "code",
   "execution_count": 30,
   "metadata": {},
   "outputs": [],
   "source": [
    "ans = np.dot(adj,vector)"
   ]
  },
  {
   "cell_type": "code",
   "execution_count": 31,
   "metadata": {},
   "outputs": [
    {
     "data": {
      "image/png": "[encoded data removed]",
      "text/plain": [
       "<Figure size 432x288 with 1 Axes>"
      ]
     },
     "metadata": {
      "needs_background": "light"
     },
     "output_type": "display_data"
    }
   ],
   "source": [
    "import matplotlib.pyplot as plt\n",
    "from sklearn.manifold import TSNE\n",
    "\n",
    "model = TSNE(learning_rate=100,perplexity=6)\n",
    "transformed = model.fit_transform(ans)\n",
    "xs = transformed[:,0]\n",
    "ys = transformed[:,1]\n",
    "\n",
    "for i in range(len(xs)):\n",
    "    plt.scatter(xs[i],ys[i],c = np.array(34))\n",
    "    plt.text(xs[i],ys[i],node_number[i])\n",
    "plt.scatter(xs,ys)\n",
    "#plt.text(xs,ys)\n",
    "\n",
    "plt.show()"
   ]
  },
  {
   "cell_type": "code",
   "execution_count": null,
   "metadata": {},
   "outputs": [],
   "source": []
  },
  {
   "cell_type": "code",
   "execution_count": null,
   "metadata": {},
   "outputs": [],
   "source": []
  }
 ],
 "metadata": {
  "kernelspec": {
   "display_name": "Python 3",
   "language": "python",
   "name": "python3"
  },
  "language_info": {
   "codemirror_mode": {
    "name": "ipython",
    "version": 3
   },
   "file_extension": ".py",
   "mimetype": "text/x-python",
   "name": "python",
   "nbconvert_exporter": "python",
   "pygments_lexer": "ipython3",
   "version": "3.8.5"
  }
 },
 "nbformat": 4,
 "nbformat_minor": 4
}
