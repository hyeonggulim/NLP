{
 "cells": [
  {
   "cell_type": "markdown",
   "metadata": {},
   "source": [
    "# 1. Matrix Factorization for Network Embedding ( From previous report)"
   ]
  },
  {
   "cell_type": "code",
   "execution_count": 1,
   "metadata": {},
   "outputs": [
    {
     "name": "stdout",
     "output_type": "stream",
     "text": [
      "(34, 34)\n",
      "(34,)\n"
     ]
    },
    {
     "data": {
      "text/plain": [
       "[<matplotlib.lines.Line2D at 0x194a2002940>]"
      ]
     },
     "execution_count": 1,
     "metadata": {},
     "output_type": "execute_result"
    },
    {
     "data": {
      "image/png": "[encoded data removed]",
      "text/plain": [
       "<Figure size 432x288 with 1 Axes>"
      ]
     },
     "metadata": {
      "needs_background": "light"
     },
     "output_type": "display_data"
    }
   ],
   "source": [
    "import pandas as pd\n",
    "import numpy as np\n",
    "import random\n",
    "import networkx as nx\n",
    "from matplotlib import pyplot as plt \n",
    "np.random.seed(15)\n",
    "\n",
    "\n",
    "#Load data\n",
    "adjlist = nx.read_adjlist(\"karate_club.adjlist\", nodetype=int)\n",
    "karate_label = np.loadtxt(\"karate_label.txt\")\n",
    "Graph = nx.read_adjlist(\"karate_club.adjlist\", nodetype=int)\n",
    "node_number = nx.to_pandas_adjacency(Graph).columns\n",
    "\n",
    "\n",
    "adj = nx.to_numpy_array(adjlist)\n",
    "label = karate_label[:,-1]\n",
    "\n",
    "print(adj.shape)\n",
    "print(label.shape)\n",
    "\n",
    "#match the label\n",
    "fix_label = []\n",
    "for i in node_number:\n",
    "    tem = karate_label[i][-1]\n",
    "    fix_label.append(tem)\n",
    "    \n",
    "    \n",
    "#defining P, Q for matrix factorizaiton\n",
    "d= 4\n",
    "P = np.random.random((4,34))\n",
    "Q = np.random.random((4,34))\n",
    "\n",
    "\n",
    "zuzv = np.dot(P.T,Q)\n",
    "zuzv.shape\n",
    "\n",
    "\n",
    "# loss function\n",
    "def loss(a,b):\n",
    "    return np.sum((a-b)**2)\n",
    "\n",
    "\n",
    "loss(zuzv,adj)\n",
    "\n",
    "epoch = 1000\n",
    "lr = 0.001\n",
    "\n",
    "#Updating params \n",
    "loss_list = [0 for _ in range(epoch)]\n",
    "for i in range(epoch):\n",
    "    P -= lr *  np.dot(zuzv-adj,Q.T).T\n",
    "    Q -= lr *  np.dot(zuzv-adj,P.T).T\n",
    "    \n",
    "    \n",
    "    loss_list[i] = loss(zuzv,adj)\n",
    "    zuzv = np.dot(P.T,Q)\n",
    "    \n",
    "    \n",
    "#plotting the loss\n",
    "plt.plot(loss_list)"
   ]
  },
  {
   "cell_type": "markdown",
   "metadata": {},
   "source": [
    "# T-SNE (From previous report)"
   ]
  },
  {
   "cell_type": "markdown",
   "metadata": {},
   "source": [
    "- the membership number are located nearly when they have many relationship \n",
    "- it differs quite a lot when perplexity changes\n",
    "- unlike the figure, label doesn't mean anyting (expressed by the color) "
   ]
  },
  {
   "cell_type": "code",
   "execution_count": 2,
   "metadata": {},
   "outputs": [],
   "source": [
    "ans = np.dot(adj,P.T)"
   ]
  },
  {
   "cell_type": "code",
   "execution_count": 3,
   "metadata": {},
   "outputs": [
    {
     "data": {
      "text/plain": [
       "Int64Index([ 0,  1,  2,  3,  4,  5,  6,  7,  8, 10, 11, 12, 13, 17, 19, 21, 31,\n",
       "            30,  9, 27, 28, 32, 16, 33, 14, 15, 18, 20, 22, 23, 25, 29, 24,\n",
       "            26],\n",
       "           dtype='int64')"
      ]
     },
     "execution_count": 3,
     "metadata": {},
     "output_type": "execute_result"
    }
   ],
   "source": [
    "node_number"
   ]
  },
  {
   "cell_type": "code",
   "execution_count": 4,
   "metadata": {},
   "outputs": [],
   "source": [
    "node_number\n",
    "label\n",
    "label_fix = []\n",
    "for i in node_number:\n",
    "    tem = label[i]\n",
    "    label_fix.append(tem)"
   ]
  },
  {
   "cell_type": "code",
   "execution_count": 5,
   "metadata": {},
   "outputs": [
    {
     "data": {
      "image/png": "[encoded data removed]",
      "text/plain": [
       "<Figure size 432x288 with 1 Axes>"
      ]
     },
     "metadata": {
      "needs_background": "light"
     },
     "output_type": "display_data"
    }
   ],
   "source": [
    "import matplotlib.pyplot as plt\n",
    "from sklearn.manifold import TSNE\n",
    "\n",
    "model = TSNE(learning_rate=100,perplexity=5)\n",
    "transformed = model.fit_transform(ans)\n",
    "xs = transformed[:,0]\n",
    "ys = transformed[:,1]\n",
    "\n",
    "for i in range(len(xs)):\n",
    "    plt.scatter(xs[i],ys[i],c = np.array(34))\n",
    "    plt.text(xs[i],ys[i],node_number[i])\n",
    "plt.scatter(xs,ys,c=label_fix)\n",
    "#plt.text(xs,ys)\n",
    "\n",
    "plt.show()\n"
   ]
  },
  {
   "cell_type": "code",
   "execution_count": 6,
   "metadata": {},
   "outputs": [
    {
     "name": "stdout",
     "output_type": "stream",
     "text": [
      "(34, 4)\n",
      "(34, 1)\n"
     ]
    }
   ],
   "source": [
    "# define data_x, label y\n",
    "x_data = ans\n",
    "t_data = np.array(label_fix).reshape(34,1)\n",
    "print(x_data.shape)\n",
    "print(t_data.shape)"
   ]
  },
  {
   "cell_type": "markdown",
   "metadata": {},
   "source": [
    "# Functions"
   ]
  },
  {
   "cell_type": "code",
   "execution_count": 7,
   "metadata": {},
   "outputs": [],
   "source": [
    "def sigmoid(x):\n",
    "    return 1/(1+np.exp(-x))\n",
    "    \n",
    "def loss_func(x, t):\n",
    "    delta = 1e-7\n",
    "    z=np.dot(x,w)+b\n",
    "    y=sigmoid(z)\n",
    "    return -np.sum(t*np.log(y+delta)+(1-t)*np.log((1-y)+delta))"
   ]
  },
  {
   "cell_type": "code",
   "execution_count": 8,
   "metadata": {},
   "outputs": [],
   "source": [
    "def numerical_derivative(f, x):\n",
    "    delta_x = 1e-4 \n",
    "    grad = np.zeros_like(x) # cal grads\n",
    "    \n",
    "    it = np.nditer(x, flags=['multi_index'], op_flags=['readwrite'])\n",
    "    \n",
    "    while not it.finished:\n",
    "        idx=it.multi_index\n",
    "        \n",
    "        tmp_val = x[idx]\n",
    "        x[idx] = float(tmp_val) + delta_x\n",
    "        fx1 = f(x)\n",
    "        \n",
    "        x[idx] = tmp_val - delta_x\n",
    "        fx2 = f(x)\n",
    "        \n",
    "        grad[idx] = (fx1 - fx2) / (2*delta_x)\n",
    "        \n",
    "        x[idx] = tmp_val\n",
    "        it.iternext()\n",
    "        \n",
    "    return grad\n",
    "\n",
    "def predict(x):\n",
    "    z = np.dot(x,w) + b\n",
    "    y = sigmoid(z)\n",
    "    \n",
    "    if y > 0.5: #0.5를 초과하면 1로 True, 이하면 0으로 False\n",
    "        result = 1\n",
    "    else:\n",
    "        result = 0\n",
    "        \n",
    "    return result"
   ]
  },
  {
   "cell_type": "code",
   "execution_count": 9,
   "metadata": {},
   "outputs": [],
   "source": [
    "#Param Setting\n",
    "learning_rate = 1e-2\n",
    "f = lambda x : loss_func(x_data, t_data)\n"
   ]
  },
  {
   "cell_type": "markdown",
   "metadata": {},
   "source": [
    "## Running 10 Times with different portion of labeled data"
   ]
  },
  {
   "cell_type": "code",
   "execution_count": 14,
   "metadata": {},
   "outputs": [
    {
     "name": "stderr",
     "output_type": "stream",
     "text": [
      "<ipython-input-14-0687019041e6>:74: RuntimeWarning: invalid value encountered in long_scalars\n",
      "  precision = right / np.sum(p)\n"
     ]
    },
    {
     "name": "stdout",
     "output_type": "stream",
     "text": [
      "accuracy 1.0\n",
      "precision 1.0\n",
      "recall 1.0\n",
      "f1 1.0\n"
     ]
    }
   ],
   "source": [
    "np.random.seed(2)\n",
    "#Param Setting\n",
    "learning_rate = 1e-2\n",
    "# GET 10 time results\n",
    "\n",
    "\n",
    "# define data_x, label y\n",
    "x_data = ans\n",
    "t_data = np.array(label_fix).reshape(34,1)\n",
    "total = np.concatenate([x_data,t_data],axis = 1)\n",
    "\n",
    "#Portion setting\n",
    "portion_set = [0.05,0.15,0.25,0.35,0.45,0.55,0.65,0.75,0.85]\n",
    "portion_f1 = []\n",
    "\n",
    "\n",
    "\n",
    "\n",
    "for pro in portion_set:\n",
    "    right_10 = []\n",
    "    accuracy_10 = []\n",
    "    precision_10 = []\n",
    "    recall_10 = []\n",
    "    f1_10 = []\n",
    "    for _ in range(20):\n",
    "    \n",
    "        #Shuffle Data\n",
    "        np.random.shuffle(total)\n",
    "        x_data = total[:,:-1]\n",
    "        t_data = total[:,-1]\n",
    "        t_data = np.array(t_data).reshape(34,1)\n",
    "    \n",
    "        \n",
    "    \n",
    "        #Data Split\n",
    "        portion = pro\n",
    "        tem = int(34 * portion)\n",
    "        \n",
    "        x_test = x_data[tem:]\n",
    "        t_test = t_data[tem:]  \n",
    "        \n",
    "        x_data = x_data[:tem]\n",
    "        t_data = t_data[:tem]\n",
    "\n",
    "    \n",
    "        #initalizing\n",
    "        w = np.random.rand(4,1)\n",
    "        b = np.random.rand(1)\n",
    "    \n",
    "    \n",
    "        loss = []\n",
    "        for step in range(10000):\n",
    "            w -= learning_rate *numerical_derivative(f,w)\n",
    "            b -= learning_rate *numerical_derivative(f,b)\n",
    "            if(step%10==0):\n",
    "                l = loss_func(x_data, t_data)\n",
    "                loss.append(l)\n",
    "    \n",
    "        #make prediction\n",
    "        pred = []\n",
    "        for i in range(len(x_test)):\n",
    "            tem = predict(x_test[i])\n",
    "            pred.append(tem) \n",
    "        \n",
    "        \n",
    "        #prediction\n",
    "        y = t_test\n",
    "        y= y.flatten()\n",
    "        p = np.array(pred) \n",
    "\n",
    "\n",
    "        accuracy = np.mean(np.equal(y,p))\n",
    "        right = np.sum(y * p == 1)\n",
    "        precision = right / np.sum(p)\n",
    "        recall = right / np.sum(y)\n",
    "        f1 = 2 * precision*recall/(precision+recall)\n",
    "\n",
    "        accuracy_10.append(accuracy)\n",
    "        right_10.append(right)\n",
    "        precision_10.append(precision)\n",
    "        recall_10.append(recall)\n",
    "        f1_10.append(f1)\n",
    "        \n",
    "    portion_f1.append(np.mean(np.array(f1_10)))\n",
    "    \n",
    "print('accuracy',np.mean(np.array(accuracy)))\n",
    "print('precision', np.mean(np.array(precision)))\n",
    "print('recall', np.mean(np.array(recall)))\n",
    "print('f1', np.mean(np.array(f1)))"
   ]
  },
  {
   "cell_type": "code",
   "execution_count": 15,
   "metadata": {},
   "outputs": [
    {
     "data": {
      "text/plain": [
       "[<matplotlib.lines.Line2D at 0x194a4212280>]"
      ]
     },
     "execution_count": 15,
     "metadata": {},
     "output_type": "execute_result"
    },
    {
     "data": {
      "image/png": "[encoded data removed]",
      "text/plain": [
       "<Figure size 432x288 with 1 Axes>"
      ]
     },
     "metadata": {
      "needs_background": "light"
     },
     "output_type": "display_data"
    }
   ],
   "source": [
    "#sample loss\n",
    "plt.plot(loss)"
   ]
  },
  {
   "cell_type": "code",
   "execution_count": null,
   "metadata": {},
   "outputs": [],
   "source": []
  },
  {
   "cell_type": "markdown",
   "metadata": {},
   "source": [
    "### Results\n",
    "+ Loss decreases and gather at some point\n",
    "+ f1 score have high variance\n",
    "+ it seems to have high variance due to the random sampling (sample size is too small)"
   ]
  },
  {
   "cell_type": "code",
   "execution_count": 16,
   "metadata": {},
   "outputs": [
    {
     "data": {
      "text/plain": [
       "[<matplotlib.lines.Line2D at 0x194a416ca90>]"
      ]
     },
     "execution_count": 16,
     "metadata": {},
     "output_type": "execute_result"
    },
    {
     "data": {
      "image/png": "[encoded data removed]",
      "text/plain": [
       "<Figure size 432x288 with 1 Axes>"
      ]
     },
     "metadata": {
      "needs_background": "light"
     },
     "output_type": "display_data"
    }
   ],
   "source": [
    "#Plotting f1 score with different portion\n",
    "plt.plot(portion_set, portion_f1)"
   ]
  },
  {
   "cell_type": "code",
   "execution_count": null,
   "metadata": {},
   "outputs": [],
   "source": []
  },
  {
   "cell_type": "code",
   "execution_count": null,
   "metadata": {},
   "outputs": [],
   "source": []
  }
 ],
 "metadata": {
  "kernelspec": {
   "display_name": "Python 3",
   "language": "python",
   "name": "python3"
  },
  "language_info": {
   "codemirror_mode": {
    "name": "ipython",
    "version": 3
   },
   "file_extension": ".py",
   "mimetype": "text/x-python",
   "name": "python",
   "nbconvert_exporter": "python",
   "pygments_lexer": "ipython3",
   "version": "3.8.5"
  }
 },
 "nbformat": 4,
 "nbformat_minor": 4
}
