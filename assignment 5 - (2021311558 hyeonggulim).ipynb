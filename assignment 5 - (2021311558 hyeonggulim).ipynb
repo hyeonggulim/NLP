{
 "cells": [
  {
   "cell_type": "markdown",
   "metadata": {},
   "source": [
    "# Network Embedding via Random Walks"
   ]
  },
  {
   "cell_type": "markdown",
   "metadata": {},
   "source": [
    "## Import modules and Data"
   ]
  },
  {
   "cell_type": "code",
   "execution_count": 1,
   "metadata": {},
   "outputs": [],
   "source": [
    "import pandas as pd\n",
    "import numpy as np\n",
    "import random\n",
    "import networkx as nx\n",
    "from matplotlib import pyplot as plt \n",
    "np.random.seed(15)"
   ]
  },
  {
   "cell_type": "code",
   "execution_count": 2,
   "metadata": {},
   "outputs": [],
   "source": [
    "#Load data\n",
    "adjlist = nx.read_adjlist(\"karate_club.adjlist\", nodetype=int)\n",
    "#karate_label = np.loadtxt(\"karate_label.txt\")"
   ]
  },
  {
   "cell_type": "code",
   "execution_count": 3,
   "metadata": {},
   "outputs": [
    {
     "name": "stdout",
     "output_type": "stream",
     "text": [
      "(34, 34)\n"
     ]
    }
   ],
   "source": [
    "adj = nx.to_numpy_array(adjlist)\n",
    "#label = karate_label[:,-1]\n",
    "\n",
    "print(adj.shape)\n",
    "#print(label.shape)"
   ]
  },
  {
   "cell_type": "markdown",
   "metadata": {},
   "source": [
    "## Nerual Network class\n",
    "+ used softmax function instead of sigmoid when feed_forward\n",
    "+ unlike 2-nn we made, deleted activation after hidden layer (after passing W1) sin ce its from word2back network \n",
    "\n",
    "+ backpropagation process is simliar to ass 2"
   ]
  },
  {
   "cell_type": "code",
   "execution_count": 15,
   "metadata": {},
   "outputs": [],
   "source": [
    "#actiavtion function \n",
    "def softmax(x):\n",
    "    c = np.max(x)\n",
    "    b = x-c\n",
    "    exp_x = np.exp(b)\n",
    "    sum_exp_x = np.sum(exp_x)\n",
    "    y = exp_x / sum_exp_x\n",
    "    return y"
   ]
  },
  {
   "cell_type": "code",
   "execution_count": 16,
   "metadata": {},
   "outputs": [],
   "source": [
    "#fully conneted network\n",
    "class ann:\n",
    "    def __init__(self, input_size, hidden_size,output_size):\n",
    "        #setting the shape of the layer and putting random inital value \n",
    "        self.params = {}\n",
    "        self.params['W1'] = np.random.randn(input_size,hidden_size)\n",
    "        self.params['W2'] = np.random.randn(hidden_size,output_size)\n",
    "    \n",
    "    #Calculating the Values\n",
    "    def gradient(self, x, y):\n",
    "        \n",
    "        #forward\n",
    "        W1,W2 = self.params['W1'],self.params['W2']\n",
    "        H = np.dot(x,W1)\n",
    "        #H = softmax(U)\n",
    "        \n",
    "        U2 = np.dot(H,W2)\n",
    "        Y = softmax(U2)\n",
    "        \n",
    "        #backpropagation\n",
    "        \n",
    "        ERR2 = (Y-y)*Y*(1-Y)\n",
    "        ERR = np.dot((ERR2 * W2),np.dot(H,1-H))\n",
    "\n",
    "        return ERR,ERR2,H,Y\n",
    "        "
   ]
  },
  {
   "cell_type": "markdown",
   "metadata": {},
   "source": [
    "## initializing variable and params"
   ]
  },
  {
   "cell_type": "code",
   "execution_count": 6,
   "metadata": {},
   "outputs": [],
   "source": [
    "w = 3 #window_size w\n",
    "d = 2 #embedding size d\n",
    "r = 10 # walks per vertex\n",
    "t = 10 # walk length\n",
    "learning_rate = 0.01"
   ]
  },
  {
   "cell_type": "code",
   "execution_count": 7,
   "metadata": {},
   "outputs": [],
   "source": [
    "#Params\n",
    "n_network = ann(input_size = 34,hidden_size = d,output_size = 34)\n",
    "#P = np.random.random((34,d)) # Work as W1 (input_size,hidden_size)\n",
    "#Q = np.random.random((d,34)) # work as W2 (hidden_size, input_size)"
   ]
  },
  {
   "cell_type": "markdown",
   "metadata": {},
   "source": [
    "## Main Function\n",
    "+ random_walk ( find near vertexs and choose )\n",
    "+ skipgram (make windows depending on window size)\n",
    "+ updated params in skipgram"
   ]
  },
  {
   "cell_type": "code",
   "execution_count": 9,
   "metadata": {},
   "outputs": [],
   "source": [
    "def random_walk(vertex,t):\n",
    "    ans = []\n",
    "    ans.append(vertex)\n",
    "    \n",
    "    while True:\n",
    "        #stop untill the window size get t\n",
    "        if len(ans) == t:\n",
    "            return ans\n",
    "            \n",
    "        #check nearest vertexs\n",
    "        vertex_adj_list = list(adj[vertex]) \n",
    "        near_vertex_index = np.nonzero(vertex_adj_list)\n",
    "    \n",
    "        #choose the nearess vertex randomly\n",
    "        get_vertex = np.random.choice(list(near_vertex_index[0]),1)\n",
    "        ans.append(get_vertex[0])\n",
    "        vertex = get_vertex[0]\n"
   ]
  },
  {
   "cell_type": "code",
   "execution_count": 10,
   "metadata": {},
   "outputs": [],
   "source": [
    "def skipgram(W,w,loss):\n",
    "    for idx, vertex in enumerate(W):\n",
    "        \n",
    "        #making u_list considering w\n",
    "        start = idx-w\n",
    "        end = idx+w\n",
    "        if start < 0:\n",
    "            start = 0\n",
    "        if end >= len(W):\n",
    "            end = len(W)-1\n",
    "\n",
    "        u_list = []\n",
    "        u_list.extend(W[start:idx])\n",
    "        u_list.extend(W[idx+1:end+1])\n",
    "        \n",
    "        #calculating each u from u_list\n",
    "        for each_u in u_list:\n",
    "            \n",
    "            # input, ouput with one-hot encoding\n",
    "            input_vertex = np.zeros(34)\n",
    "            y_pred = np.zeros(34)\n",
    "            v = vertex\n",
    "            u = each_u\n",
    "            input_vertex[v] = 1\n",
    "            y_pred[u] = 1\n",
    "            \n",
    "            #gradient (forward,backpropa)\n",
    "            \n",
    "            ERR,ERR2,H,Y = n_network.gradient(input_vertex,y_pred)\n",
    "            \n",
    "            #updata params\n",
    "            n_network.params['W1'] -= (learning_rate * ERR * input_vertex).T\n",
    "            n_network.params['W2'] -= learning_rate *np.outer(H, ERR2)\n",
    "            #n_network.params['W2'] -= np.reshape(learning_rate * ERR2 * H.T, (d,34))\n",
    "            \n",
    "            #calculating loss\n",
    "    \n",
    "            loss[v] -= np.log(np.mean(np.abs(y_pred-Y)))\n",
    "            loss[v] = loss[v]\n",
    "    return loss"
   ]
  },
  {
   "cell_type": "code",
   "execution_count": 11,
   "metadata": {},
   "outputs": [],
   "source": [
    "epoch = 30\n",
    "epoch_loss = []\n",
    "epoch_loss2 = []\n",
    "for _ in range(epoch):\n",
    "    for i in range(r):\n",
    "        O = np.arange(34)\n",
    "        np.random.shuffle(O)\n",
    "    \n",
    "        for vertex in O:\n",
    "            W = random_walk(vertex,t)\n",
    "            loss = [0 for _ in range(34)]\n",
    "            loss = skipgram(W,w,loss)\n",
    "            epoch_loss.append(loss)\n",
    "    epoch_loss2.append(np.mean(loss))\n",
    "    #calculating loss\n",
    "    #n_networ.params['W1']    "
   ]
  },
  {
   "cell_type": "code",
   "execution_count": 13,
   "metadata": {},
   "outputs": [],
   "source": [
    "epoch_loss= np.sum(np.array(epoch_loss),axis = 1)"
   ]
  },
  {
   "cell_type": "code",
   "execution_count": 14,
   "metadata": {},
   "outputs": [
    {
     "data": {
      "image/png": "[encoded data removed]",
      "text/plain": [
       "<Figure size 432x288 with 1 Axes>"
      ]
     },
     "metadata": {
      "needs_background": "light"
     },
     "output_type": "display_data"
    }
   ],
   "source": [
    "from matplotlib import pyplot as plt\n",
    "plt.plot(epoch_loss2)\n",
    "plt.title(\"the loss versus the number of epochs\")\n",
    "plt.xlabel(\"Number of epochs\")\n",
    "plt.ylabel(\"loss\")\n",
    "plt.show()"
   ]
  },
  {
   "cell_type": "markdown",
   "metadata": {},
   "source": [
    "## Plotting in 2-dim with TSNE\n",
    "\n",
    "+ it seems that nearest vertexs have \"1\"s in adj matrix\n",
    "+ but there are many wrong ones (which means some are faraway eventhough they have\"1\"\n",
    "+ it will probably improved when hidden layer (which is d) get higher\n",
    "+ Erased labels since didnt need at all"
   ]
  },
  {
   "cell_type": "code",
   "execution_count": 18,
   "metadata": {},
   "outputs": [],
   "source": [
    "nums = np.identity(34)\n",
    "W1 = n_network.params['W1']\n",
    "output = np.dot(nums , W1)"
   ]
  },
  {
   "cell_type": "code",
   "execution_count": 20,
   "metadata": {},
   "outputs": [
    {
     "data": {
      "image/png": "[encoded data removed]",
      "text/plain": [
       "<Figure size 432x288 with 1 Axes>"
      ]
     },
     "metadata": {
      "needs_background": "light"
     },
     "output_type": "display_data"
    }
   ],
   "source": [
    "import matplotlib.pyplot as plt\n",
    "from sklearn.manifold import TSNE\n",
    "\n",
    "model = TSNE(learning_rate=100,perplexity=8)\n",
    "transformed = model.fit_transform(output)\n",
    "xs = transformed[:,0]\n",
    "ys = transformed[:,1]\n",
    "\n",
    "for i in range(len(xs)):\n",
    "    plt.scatter(xs[i],ys[i])\n",
    "    plt.text(xs[i],ys[i],i)\n",
    "plt.scatter(xs,ys)\n",
    "#plt.text(xs,ys)\n",
    "\n",
    "plt.show()"
   ]
  },
  {
   "cell_type": "code",
   "execution_count": null,
   "metadata": {},
   "outputs": [],
   "source": []
  }
 ],
 "metadata": {
  "kernelspec": {
   "display_name": "Python 3",
   "language": "python",
   "name": "python3"
  },
  "language_info": {
   "codemirror_mode": {
    "name": "ipython",
    "version": 3
   },
   "file_extension": ".py",
   "mimetype": "text/x-python",
   "name": "python",
   "nbconvert_exporter": "python",
   "pygments_lexer": "ipython3",
   "version": "3.8.5"
  }
 },
 "nbformat": 4,
 "nbformat_minor": 4
}
